tData = input("Enter Input Data")

print(model.predict(inputData))